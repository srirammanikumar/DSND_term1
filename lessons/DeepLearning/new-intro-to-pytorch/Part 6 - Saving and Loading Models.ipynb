{
 "cells": [
  {
   "cell_type": "markdown",
   "metadata": {},
   "source": [
    "# Saving and Loading Models\n",
    "\n",
    "In this notebook, I'll show you how to save and load models with PyTorch. This is important because you'll often want to load previously trained models to use in making predictions or to continue training on new data."
   ]
  },
  {
   "cell_type": "code",
   "execution_count": 1,
   "metadata": {},
   "outputs": [],
   "source": [
    "%matplotlib inline\n",
    "%config InlineBackend.figure_format = 'retina'\n",
    "\n",
    "import matplotlib.pyplot as plt\n",
    "\n",
    "import torch\n",
    "from torch import nn\n",
    "from torch import optim\n",
    "import torch.nn.functional as F\n",
    "from torchvision import datasets, transforms\n",
    "\n",
    "import helper\n",
    "import fc_model"
   ]
  },
  {
   "cell_type": "code",
   "execution_count": 2,
   "metadata": {},
   "outputs": [
    {
     "name": "stdout",
     "output_type": "stream",
     "text": [
      "Downloading http://fashion-mnist.s3-website.eu-central-1.amazonaws.com/train-images-idx3-ubyte.gz to F_MNIST_data/FashionMNIST\\raw\\train-images-idx3-ubyte.gz\n"
     ]
    },
    {
     "name": "stderr",
     "output_type": "stream",
     "text": [
      "26427392it [00:18, 1418378.69it/s]                                                                                     "
     ]
    },
    {
     "name": "stdout",
     "output_type": "stream",
     "text": [
      "Extracting F_MNIST_data/FashionMNIST\\raw\\train-images-idx3-ubyte.gz\n",
      "Downloading http://fashion-mnist.s3-website.eu-central-1.amazonaws.com/train-labels-idx1-ubyte.gz to F_MNIST_data/FashionMNIST\\raw\\train-labels-idx1-ubyte.gz\n"
     ]
    },
    {
     "name": "stderr",
     "output_type": "stream",
     "text": [
      "\n",
      "0it [00:00, ?it/s]\n",
      "  0%|                                                                                        | 0/29515 [00:00<?, ?it/s]"
     ]
    },
    {
     "name": "stdout",
     "output_type": "stream",
     "text": [
      "Extracting F_MNIST_data/FashionMNIST\\raw\\train-labels-idx1-ubyte.gz\n",
      "Downloading http://fashion-mnist.s3-website.eu-central-1.amazonaws.com/t10k-images-idx3-ubyte.gz to F_MNIST_data/FashionMNIST\\raw\\t10k-images-idx3-ubyte.gz\n"
     ]
    },
    {
     "name": "stderr",
     "output_type": "stream",
     "text": [
      "\n",
      "\n",
      "0it [00:00, ?it/s]\n",
      "\n",
      "  0%|                                                                                      | 0/4422102 [00:00<?, ?it/s]\n",
      "\n",
      "  0%|▎                                                                     | 16384/4422102 [00:00<00:28, 154965.21it/s]\n",
      "\n",
      "  1%|▌                                                                     | 32768/4422102 [00:00<00:30, 144112.76it/s]\n",
      "\n",
      "  1%|▊                                                                     | 49152/4422102 [00:00<00:40, 107626.31it/s]\n",
      "\n",
      "  1%|█                                                                     | 65536/4422102 [00:00<00:42, 103508.31it/s]\n",
      "\n",
      "  2%|█▎                                                                    | 81920/4422102 [00:01<00:40, 107888.67it/s]\n",
      "\n",
      "  2%|█▋                                                                   | 106496/4422102 [00:01<00:35, 120880.46it/s]\n",
      "\n",
      "  3%|█▉                                                                   | 122880/4422102 [00:01<00:35, 122420.41it/s]\n",
      "\n",
      "  4%|██▍                                                                  | 155648/4422102 [00:01<00:28, 147189.89it/s]\n",
      "\n",
      "  4%|███                                                                  | 196608/4422102 [00:01<00:23, 176392.54it/s]\n",
      "\n",
      "  5%|███▋                                                                 | 237568/4422102 [00:01<00:22, 189194.49it/s]\n",
      "\n",
      "  6%|████▎                                                                | 278528/4422102 [00:01<00:19, 217628.52it/s]\n",
      "\n",
      "  7%|████▊                                                                | 311296/4422102 [00:02<00:22, 186217.25it/s]\n",
      "\n",
      "  8%|█████▏                                                               | 335872/4422102 [00:02<00:21, 190108.85it/s]\n",
      "\n",
      "  8%|█████▊                                                               | 368640/4422102 [00:02<00:19, 207115.13it/s]\n",
      "\n",
      "  9%|██████▎                                                              | 401408/4422102 [00:02<00:20, 193869.21it/s]\n",
      "\n",
      " 10%|██████▊                                                              | 434176/4422102 [00:02<00:18, 212203.55it/s]\n",
      "\n",
      " 11%|███████▍                                                             | 475136/4422102 [00:02<00:16, 233324.27it/s]\n",
      "\n",
      " 11%|███████▉                                                             | 507904/4422102 [00:02<00:15, 245670.80it/s]\n",
      "\n",
      " 12%|████████▌                                                            | 548864/4422102 [00:03<00:15, 253835.69it/s]\n",
      "\n",
      " 13%|█████████▏                                                           | 589824/4422102 [00:03<00:14, 272500.16it/s]\n",
      "\n",
      " 14%|█████████▊                                                           | 630784/4422102 [00:03<00:13, 289119.09it/s]\n",
      "\n",
      " 15%|██████████▌                                                          | 679936/4422102 [00:03<00:12, 302220.79it/s]\n",
      "\n",
      " 16%|███████████▏                                                         | 720896/4422102 [00:03<00:11, 311692.27it/s]\n",
      "\n",
      " 17%|███████████▉                                                         | 761856/4422102 [00:03<00:11, 316300.15it/s]\n",
      "\n",
      " 18%|████████████▋                                                        | 811008/4422102 [00:03<00:11, 326394.39it/s]\n",
      "\n",
      " 19%|█████████████▍                                                       | 860160/4422102 [00:04<00:10, 346279.03it/s]\n",
      "\n",
      " 20%|██████████████                                                       | 901120/4422102 [00:04<00:10, 342261.92it/s]\n",
      "\n",
      " 21%|██████████████▋                                                      | 942080/4422102 [00:04<00:09, 356488.47it/s]\n",
      "\n",
      " 22%|███████████████▍                                                     | 991232/4422102 [00:04<00:09, 357548.91it/s]\n",
      "\n",
      " 24%|███████████████▉                                                    | 1040384/4422102 [00:04<00:09, 355995.25it/s]\n",
      "\n",
      " 24%|████████████████▋                                                   | 1081344/4422102 [00:04<00:09, 346688.51it/s]\n",
      "\n",
      " 26%|█████████████████▍                                                  | 1130496/4422102 [00:04<00:09, 359994.90it/s]\n",
      "\n",
      " 26%|██████████████████                                                  | 1171456/4422102 [00:04<00:09, 356009.56it/s]\n",
      "\n",
      " 27%|██████████████████▋                                                 | 1212416/4422102 [00:05<00:08, 364776.02it/s]\n",
      "\n",
      " 28%|███████████████████▎                                                | 1253376/4422102 [00:05<00:09, 350707.60it/s]\n",
      "\n",
      " 29%|███████████████████▉                                                | 1294336/4422102 [00:05<00:09, 337114.45it/s]\n",
      "\n",
      " 30%|████████████████████▌                                               | 1335296/4422102 [00:05<00:09, 336205.28it/s]\n",
      "\n",
      " 31%|█████████████████████▎                                              | 1384448/4422102 [00:05<00:08, 339498.18it/s]\n",
      "\n",
      " 32%|██████████████████████                                              | 1433600/4422102 [00:05<00:08, 356121.46it/s]\n",
      "\n",
      " 33%|██████████████████████▋                                             | 1474560/4422102 [00:05<00:08, 358135.24it/s]\n",
      "\n",
      " 34%|███████████████████████▍                                            | 1523712/4422102 [00:05<00:08, 358574.03it/s]\n",
      "\n",
      " 36%|████████████████████████▏                                           | 1572864/4422102 [00:06<00:07, 362941.46it/s]\n",
      "\n",
      " 37%|████████████████████████▉                                           | 1622016/4422102 [00:06<00:07, 370573.92it/s]\n",
      "\n",
      " 38%|█████████████████████████▌                                          | 1662976/4422102 [00:06<00:07, 379640.47it/s]\n",
      "\n",
      " 39%|██████████████████████████▏                                         | 1703936/4422102 [00:06<00:07, 365910.39it/s]\n",
      "\n",
      " 40%|███████████████████████████                                         | 1761280/4422102 [00:06<00:06, 381699.51it/s]\n",
      "\n",
      " 41%|███████████████████████████▊                                        | 1810432/4422102 [00:06<00:07, 332442.00it/s]\n",
      "\n",
      " 42%|████████████████████████████▌                                       | 1859584/4422102 [00:06<00:09, 273665.76it/s]\n",
      "\n",
      " 43%|█████████████████████████████▍                                      | 1916928/4422102 [00:07<00:08, 309074.89it/s]\n",
      "\n",
      " 45%|██████████████████████████████▎                                     | 1974272/4422102 [00:07<00:07, 341005.04it/s]\n",
      "\n",
      " 46%|███████████████████████████████                                     | 2023424/4422102 [00:07<00:06, 345163.93it/s]\n",
      "\n",
      " 47%|███████████████████████████████▉                                    | 2080768/4422102 [00:07<00:06, 367755.62it/s]\n",
      "\n",
      " 48%|████████████████████████████████▉                                   | 2138112/4422102 [00:07<00:06, 370599.18it/s]\n",
      "\n",
      " 50%|█████████████████████████████████▊                                  | 2195456/4422102 [00:07<00:05, 396174.11it/s]\n",
      "\n",
      " 51%|██████████████████████████████████▋                                 | 2252800/4422102 [00:07<00:05, 420485.19it/s]\n",
      "\n",
      " 52%|███████████████████████████████████▍                                | 2301952/4422102 [00:08<00:06, 315896.71it/s]\n",
      "\n",
      " 54%|████████████████████████████████████▊                               | 2392064/4422102 [00:08<00:05, 383569.73it/s]\n",
      "\n",
      " 55%|█████████████████████████████████████▌                              | 2441216/4422102 [00:08<00:05, 361780.27it/s]\n",
      "\n",
      " 56%|██████████████████████████████████████▎                             | 2490368/4422102 [00:08<00:05, 374999.11it/s]\n",
      "\n",
      " 57%|███████████████████████████████████████                             | 2539520/4422102 [00:08<00:04, 385722.40it/s]\n",
      "\n",
      " 59%|███████████████████████████████████████▊                            | 2588672/4422102 [00:08<00:04, 382736.38it/s]\n",
      "\n",
      " 59%|████████████████████████████████████████▍                           | 2629632/4422102 [00:08<00:04, 388292.44it/s]\n",
      "\n",
      " 61%|█████████████████████████████████████████▏                          | 2678784/4422102 [00:08<00:04, 408872.04it/s]\n",
      "\n",
      " 62%|█████████████████████████████████████████▉                          | 2727936/4422102 [00:09<00:04, 418315.15it/s]\n",
      "\n",
      " 63%|██████████████████████████████████████████▋                         | 2777088/4422102 [00:09<00:04, 406296.53it/s]\n",
      "\n",
      " 64%|███████████████████████████████████████████▌                        | 2834432/4422102 [00:09<00:03, 408563.09it/s]\n",
      "\n"
     ]
    },
    {
     "name": "stderr",
     "output_type": "stream",
     "text": [
      " 65%|████████████████████████████████████████████▍                       | 2891776/4422102 [00:09<00:03, 410879.91it/s]\n",
      "\n",
      " 67%|█████████████████████████████████████████████▎                      | 2949120/4422102 [00:09<00:03, 432460.42it/s]\n",
      "\n",
      "26427392it [00:30, 1418378.69it/s]█████████████████▏                     | 3006464/4422102 [00:09<00:03, 448927.86it/s]\n",
      "\n",
      " 69%|███████████████████████████████████████████████                     | 3063808/4422102 [00:09<00:02, 457259.57it/s]\n",
      "\n",
      " 71%|███████████████████████████████████████████████▉                    | 3121152/4422102 [00:09<00:02, 462198.12it/s]\n",
      "\n",
      " 72%|████████████████████████████████████████████████▉                   | 3178496/4422102 [00:10<00:02, 449789.08it/s]\n",
      "\n",
      " 73%|█████████████████████████████████████████████████▉                  | 3244032/4422102 [00:10<00:02, 465435.03it/s]\n",
      "\n",
      " 75%|██████████████████████████████████████████████████▊                 | 3301376/4422102 [00:10<00:02, 479680.33it/s]\n",
      "\n",
      " 76%|███████████████████████████████████████████████████▋                | 3358720/4422102 [00:10<00:02, 480578.43it/s]\n",
      "\n",
      " 77%|████████████████████████████████████████████████████▋               | 3424256/4422102 [00:10<00:02, 485672.13it/s]\n",
      "\n",
      " 79%|█████████████████████████████████████████████████████▌              | 3481600/4422102 [00:10<00:01, 480876.77it/s]\n",
      "\n",
      " 80%|██████████████████████████████████████████████████████▍             | 3538944/4422102 [00:10<00:01, 470257.99it/s]\n",
      "\n",
      " 82%|███████████████████████████████████████████████████████▍            | 3604480/4422102 [00:10<00:01, 483342.58it/s]\n",
      "\n",
      " 83%|████████████████████████████████████████████████████████▎           | 3661824/4422102 [00:11<00:01, 470247.73it/s]\n",
      "\n",
      " 84%|█████████████████████████████████████████████████████████           | 3710976/4422102 [00:11<00:02, 344621.19it/s]\n",
      "\n",
      " 85%|█████████████████████████████████████████████████████████▊          | 3760128/4422102 [00:11<00:01, 363739.87it/s]\n",
      "\n",
      " 86%|██████████████████████████████████████████████████████████▍         | 3801088/4422102 [00:11<00:01, 346590.97it/s]\n",
      "\n",
      " 87%|███████████████████████████████████████████████████████████▏        | 3850240/4422102 [00:11<00:01, 363069.75it/s]\n",
      "\n",
      " 88%|███████████████████████████████████████████████████████████▊        | 3891200/4422102 [00:11<00:01, 362471.95it/s]\n",
      "\n",
      " 89%|████████████████████████████████████████████████████████████▌       | 3940352/4422102 [00:11<00:01, 379013.03it/s]\n",
      "\n",
      " 90%|█████████████████████████████████████████████████████████████▍      | 3997696/4422102 [00:12<00:01, 379155.66it/s]\n",
      "\n",
      " 92%|██████████████████████████████████████████████████████████████▏     | 4046848/4422102 [00:12<00:00, 387731.27it/s]\n",
      "\n",
      " 93%|███████████████████████████████████████████████████████████████     | 4104192/4422102 [00:12<00:00, 421804.61it/s]\n",
      "\n",
      " 94%|███████████████████████████████████████████████████████████████▊    | 4153344/4422102 [00:12<00:00, 399695.31it/s]\n",
      "\n",
      " 95%|████████████████████████████████████████████████████████████████▋   | 4210688/4422102 [00:12<00:00, 417155.59it/s]\n",
      "\n",
      " 97%|█████████████████████████████████████████████████████████████████▋  | 4268032/4422102 [00:12<00:00, 448410.07it/s]\n",
      "\n",
      " 98%|██████████████████████████████████████████████████████████████████▌ | 4325376/4422102 [00:12<00:00, 443757.38it/s]\n",
      "\n",
      " 99%|███████████████████████████████████████████████████████████████████▍| 4382720/4422102 [00:12<00:00, 454249.40it/s]"
     ]
    },
    {
     "name": "stdout",
     "output_type": "stream",
     "text": [
      "Extracting F_MNIST_data/FashionMNIST\\raw\\t10k-images-idx3-ubyte.gz\n",
      "Downloading http://fashion-mnist.s3-website.eu-central-1.amazonaws.com/t10k-labels-idx1-ubyte.gz to F_MNIST_data/FashionMNIST\\raw\\t10k-labels-idx1-ubyte.gz\n"
     ]
    },
    {
     "name": "stderr",
     "output_type": "stream",
     "text": [
      "\n",
      "\n",
      "\n",
      "0it [00:00, ?it/s]\n",
      "\n",
      "\n",
      "  0%|                                                                                         | 0/5148 [00:00<?, ?it/s]\n",
      "\n",
      "\n",
      "8192it [00:00, 16638.56it/s]                                                                                           "
     ]
    },
    {
     "name": "stdout",
     "output_type": "stream",
     "text": [
      "Extracting F_MNIST_data/FashionMNIST\\raw\\t10k-labels-idx1-ubyte.gz\n",
      "Processing...\n",
      "Done!\n"
     ]
    }
   ],
   "source": [
    "# Define a transform to normalize the data\n",
    "transform = transforms.Compose([transforms.ToTensor(),\n",
    "                                transforms.Normalize((0.5,), (0.5,))])\n",
    "# Download and load the training data\n",
    "trainset = datasets.FashionMNIST('F_MNIST_data/', download=True, train=True, transform=transform)\n",
    "trainloader = torch.utils.data.DataLoader(trainset, batch_size=64, shuffle=True)\n",
    "\n",
    "# Download and load the test data\n",
    "testset = datasets.FashionMNIST('F_MNIST_data/', download=True, train=False, transform=transform)\n",
    "testloader = torch.utils.data.DataLoader(testset, batch_size=64, shuffle=True)"
   ]
  },
  {
   "cell_type": "markdown",
   "metadata": {},
   "source": [
    "Here we can see one of the images."
   ]
  },
  {
   "cell_type": "code",
   "execution_count": 3,
   "metadata": {},
   "outputs": [
    {
     "data": {
      "image/png": "[encoded data removed]",
      "text/plain": [
       "<Figure size 432x288 with 1 Axes>"
      ]
     },
     "metadata": {
      "image/png": {
       "height": 233,
       "width": 233
      },
      "needs_background": "light"
     },
     "output_type": "display_data"
    },
    {
     "name": "stderr",
     "output_type": "stream",
     "text": [
      "\n",
      "\n",
      "4423680it [00:29, 454249.40it/s]                                                                                       "
     ]
    }
   ],
   "source": [
    "image, label = next(iter(trainloader))\n",
    "helper.imshow(image[0,:]);"
   ]
  },
  {
   "cell_type": "markdown",
   "metadata": {},
   "source": [
    "# Train a network\n",
    "\n",
    "To make things more concise here, I moved the model architecture and training code from the last part to a file called `fc_model`. Importing this, we can easily create a fully-connected network with `fc_model.Network`, and train the network using `fc_model.train`. I'll use this model (once it's trained) to demonstrate how we can save and load models."
   ]
  },
  {
   "cell_type": "code",
   "execution_count": 4,
   "metadata": {},
   "outputs": [],
   "source": [
    "# Create the network, define the criterion and optimizer\n",
    "\n",
    "model = fc_model.Network(784, 10, [512, 256, 128])\n",
    "criterion = nn.NLLLoss()\n",
    "optimizer = optim.Adam(model.parameters(), lr=0.001)"
   ]
  },
  {
   "cell_type": "code",
   "execution_count": 5,
   "metadata": {},
   "outputs": [
    {
     "name": "stdout",
     "output_type": "stream",
     "text": [
      "Epoch: 1/2..  Training Loss: 1.711..  Test Loss: 0.969..  Test Accuracy: 0.655\n",
      "Epoch: 1/2..  Training Loss: 1.028..  Test Loss: 0.744..  Test Accuracy: 0.718\n",
      "Epoch: 1/2..  Training Loss: 0.857..  Test Loss: 0.677..  Test Accuracy: 0.745\n",
      "Epoch: 1/2..  Training Loss: 0.781..  Test Loss: 0.699..  Test Accuracy: 0.731\n",
      "Epoch: 1/2..  Training Loss: 0.767..  Test Loss: 0.616..  Test Accuracy: 0.769\n",
      "Epoch: 1/2..  Training Loss: 0.669..  Test Loss: 0.604..  Test Accuracy: 0.771\n",
      "Epoch: 1/2..  Training Loss: 0.699..  Test Loss: 0.599..  Test Accuracy: 0.776\n",
      "Epoch: 1/2..  Training Loss: 0.686..  Test Loss: 0.569..  Test Accuracy: 0.782\n",
      "Epoch: 1/2..  Training Loss: 0.638..  Test Loss: 0.556..  Test Accuracy: 0.799\n",
      "Epoch: 1/2..  Training Loss: 0.631..  Test Loss: 0.574..  Test Accuracy: 0.785\n",
      "Epoch: 1/2..  Training Loss: 0.630..  Test Loss: 0.554..  Test Accuracy: 0.799\n",
      "Epoch: 1/2..  Training Loss: 0.661..  Test Loss: 0.530..  Test Accuracy: 0.801\n",
      "Epoch: 1/2..  Training Loss: 0.617..  Test Loss: 0.521..  Test Accuracy: 0.802\n",
      "Epoch: 1/2..  Training Loss: 0.573..  Test Loss: 0.519..  Test Accuracy: 0.810\n",
      "Epoch: 1/2..  Training Loss: 0.581..  Test Loss: 0.515..  Test Accuracy: 0.813\n",
      "Epoch: 1/2..  Training Loss: 0.606..  Test Loss: 0.542..  Test Accuracy: 0.795\n",
      "Epoch: 1/2..  Training Loss: 0.589..  Test Loss: 0.496..  Test Accuracy: 0.819\n",
      "Epoch: 1/2..  Training Loss: 0.584..  Test Loss: 0.501..  Test Accuracy: 0.815\n",
      "Epoch: 1/2..  Training Loss: 0.603..  Test Loss: 0.492..  Test Accuracy: 0.823\n",
      "Epoch: 1/2..  Training Loss: 0.585..  Test Loss: 0.477..  Test Accuracy: 0.829\n",
      "Epoch: 1/2..  Training Loss: 0.569..  Test Loss: 0.521..  Test Accuracy: 0.813\n",
      "Epoch: 1/2..  Training Loss: 0.583..  Test Loss: 0.482..  Test Accuracy: 0.828\n",
      "Epoch: 1/2..  Training Loss: 0.557..  Test Loss: 0.485..  Test Accuracy: 0.823\n",
      "Epoch: 2/2..  Training Loss: 0.584..  Test Loss: 0.479..  Test Accuracy: 0.821\n",
      "Epoch: 2/2..  Training Loss: 0.578..  Test Loss: 0.474..  Test Accuracy: 0.828\n",
      "Epoch: 2/2..  Training Loss: 0.523..  Test Loss: 0.499..  Test Accuracy: 0.821\n",
      "Epoch: 2/2..  Training Loss: 0.577..  Test Loss: 0.496..  Test Accuracy: 0.822\n",
      "Epoch: 2/2..  Training Loss: 0.565..  Test Loss: 0.456..  Test Accuracy: 0.830\n",
      "Epoch: 2/2..  Training Loss: 0.541..  Test Loss: 0.487..  Test Accuracy: 0.822\n",
      "Epoch: 2/2..  Training Loss: 0.552..  Test Loss: 0.465..  Test Accuracy: 0.827\n",
      "Epoch: 2/2..  Training Loss: 0.552..  Test Loss: 0.467..  Test Accuracy: 0.826\n",
      "Epoch: 2/2..  Training Loss: 0.524..  Test Loss: 0.451..  Test Accuracy: 0.836\n",
      "Epoch: 2/2..  Training Loss: 0.520..  Test Loss: 0.473..  Test Accuracy: 0.831\n",
      "Epoch: 2/2..  Training Loss: 0.544..  Test Loss: 0.458..  Test Accuracy: 0.838\n",
      "Epoch: 2/2..  Training Loss: 0.515..  Test Loss: 0.450..  Test Accuracy: 0.836\n",
      "Epoch: 2/2..  Training Loss: 0.544..  Test Loss: 0.466..  Test Accuracy: 0.828\n",
      "Epoch: 2/2..  Training Loss: 0.543..  Test Loss: 0.456..  Test Accuracy: 0.835\n",
      "Epoch: 2/2..  Training Loss: 0.532..  Test Loss: 0.439..  Test Accuracy: 0.838\n",
      "Epoch: 2/2..  Training Loss: 0.551..  Test Loss: 0.462..  Test Accuracy: 0.828\n",
      "Epoch: 2/2..  Training Loss: 0.509..  Test Loss: 0.453..  Test Accuracy: 0.832\n",
      "Epoch: 2/2..  Training Loss: 0.494..  Test Loss: 0.441..  Test Accuracy: 0.839\n",
      "Epoch: 2/2..  Training Loss: 0.499..  Test Loss: 0.450..  Test Accuracy: 0.835\n",
      "Epoch: 2/2..  Training Loss: 0.511..  Test Loss: 0.443..  Test Accuracy: 0.843\n",
      "Epoch: 2/2..  Training Loss: 0.499..  Test Loss: 0.464..  Test Accuracy: 0.828\n",
      "Epoch: 2/2..  Training Loss: 0.526..  Test Loss: 0.442..  Test Accuracy: 0.837\n",
      "Epoch: 2/2..  Training Loss: 0.523..  Test Loss: 0.438..  Test Accuracy: 0.838\n"
     ]
    }
   ],
   "source": [
    "fc_model.train(model, trainloader, testloader, criterion, optimizer, epochs=2)"
   ]
  },
  {
   "cell_type": "markdown",
   "metadata": {},
   "source": [
    "## Saving and loading networks\n",
    "\n",
    "As you can imagine, it's impractical to train a network every time you need to use it. Instead, we can save trained networks then load them later to train more or use them for predictions.\n",
    "\n",
    "The parameters for PyTorch networks are stored in a model's `state_dict`. We can see the state dict contains the weight and bias matrices for each of our layers."
   ]
  },
  {
   "cell_type": "code",
   "execution_count": 6,
   "metadata": {},
   "outputs": [
    {
     "name": "stdout",
     "output_type": "stream",
     "text": [
      "Our model: \n",
      "\n",
      " Network(\n",
      "  (hidden_layers): ModuleList(\n",
      "    (0): Linear(in_features=784, out_features=512, bias=True)\n",
      "    (1): Linear(in_features=512, out_features=256, bias=True)\n",
      "    (2): Linear(in_features=256, out_features=128, bias=True)\n",
      "  )\n",
      "  (output): Linear(in_features=128, out_features=10, bias=True)\n",
      "  (dropout): Dropout(p=0.5)\n",
      ") \n",
      "\n",
      "The state dict keys: \n",
      "\n",
      " odict_keys(['hidden_layers.0.weight', 'hidden_layers.0.bias', 'hidden_layers.1.weight', 'hidden_layers.1.bias', 'hidden_layers.2.weight', 'hidden_layers.2.bias', 'output.weight', 'output.bias'])\n"
     ]
    }
   ],
   "source": [
    "print(\"Our model: \\n\\n\", model, '\\n')\n",
    "print(\"The state dict keys: \\n\\n\", model.state_dict().keys())"
   ]
  },
  {
   "cell_type": "markdown",
   "metadata": {},
   "source": [
    "The simplest thing to do is simply save the state dict with `torch.save`. For example, we can save it to a file `'checkpoint.pth'`."
   ]
  },
  {
   "cell_type": "code",
   "execution_count": 7,
   "metadata": {},
   "outputs": [],
   "source": [
    "torch.save(model.state_dict(), 'checkpoint.pth')"
   ]
  },
  {
   "cell_type": "markdown",
   "metadata": {},
   "source": [
    "Then we can load the state dict with `torch.load`."
   ]
  },
  {
   "cell_type": "code",
   "execution_count": 8,
   "metadata": {},
   "outputs": [
    {
     "name": "stdout",
     "output_type": "stream",
     "text": [
      "odict_keys(['hidden_layers.0.weight', 'hidden_layers.0.bias', 'hidden_layers.1.weight', 'hidden_layers.1.bias', 'hidden_layers.2.weight', 'hidden_layers.2.bias', 'output.weight', 'output.bias'])\n"
     ]
    }
   ],
   "source": [
    "state_dict = torch.load('checkpoint.pth')\n",
    "print(state_dict.keys())"
   ]
  },
  {
   "cell_type": "markdown",
   "metadata": {},
   "source": [
    "And to load the state dict in to the network, you do `model.load_state_dict(state_dict)`."
   ]
  },
  {
   "cell_type": "code",
   "execution_count": 9,
   "metadata": {},
   "outputs": [
    {
     "data": {
      "text/plain": [
       "IncompatibleKeys(missing_keys=[], unexpected_keys=[])"
      ]
     },
     "execution_count": 9,
     "metadata": {},
     "output_type": "execute_result"
    }
   ],
   "source": [
    "model.load_state_dict(state_dict)"
   ]
  },
  {
   "cell_type": "markdown",
   "metadata": {},
   "source": [
    "Seems pretty straightforward, but as usual it's a bit more complicated. Loading the state dict works only if the model architecture is exactly the same as the checkpoint architecture. If I create a model with a different architecture, this fails."
   ]
  },
  {
   "cell_type": "code",
   "execution_count": 10,
   "metadata": {},
   "outputs": [
    {
     "ename": "RuntimeError",
     "evalue": "Error(s) in loading state_dict for Network:\n\tsize mismatch for hidden_layers.0.weight: copying a param with shape torch.Size([512, 784]) from checkpoint, the shape in current model is torch.Size([400, 784]).\n\tsize mismatch for hidden_layers.0.bias: copying a param with shape torch.Size([512]) from checkpoint, the shape in current model is torch.Size([400]).\n\tsize mismatch for hidden_layers.1.weight: copying a param with shape torch.Size([256, 512]) from checkpoint, the shape in current model is torch.Size([200, 400]).\n\tsize mismatch for hidden_layers.1.bias: copying a param with shape torch.Size([256]) from checkpoint, the shape in current model is torch.Size([200]).\n\tsize mismatch for hidden_layers.2.weight: copying a param with shape torch.Size([128, 256]) from checkpoint, the shape in current model is torch.Size([100, 200]).\n\tsize mismatch for hidden_layers.2.bias: copying a param with shape torch.Size([128]) from checkpoint, the shape in current model is torch.Size([100]).\n\tsize mismatch for output.weight: copying a param with shape torch.Size([10, 128]) from checkpoint, the shape in current model is torch.Size([10, 100]).",
     "output_type": "error",
     "traceback": [
      "\u001b[1;31m---------------------------------------------------------------------------\u001b[0m",
      "\u001b[1;31mRuntimeError\u001b[0m                              Traceback (most recent call last)",
      "\u001b[1;32m<ipython-input-10-d859c59ebec0>\u001b[0m in \u001b[0;36m<module>\u001b[1;34m\u001b[0m\n\u001b[0;32m      2\u001b[0m \u001b[0mmodel\u001b[0m \u001b[1;33m=\u001b[0m \u001b[0mfc_model\u001b[0m\u001b[1;33m.\u001b[0m\u001b[0mNetwork\u001b[0m\u001b[1;33m(\u001b[0m\u001b[1;36m784\u001b[0m\u001b[1;33m,\u001b[0m \u001b[1;36m10\u001b[0m\u001b[1;33m,\u001b[0m \u001b[1;33m[\u001b[0m\u001b[1;36m400\u001b[0m\u001b[1;33m,\u001b[0m \u001b[1;36m200\u001b[0m\u001b[1;33m,\u001b[0m \u001b[1;36m100\u001b[0m\u001b[1;33m]\u001b[0m\u001b[1;33m)\u001b[0m\u001b[1;33m\u001b[0m\u001b[1;33m\u001b[0m\u001b[0m\n\u001b[0;32m      3\u001b[0m \u001b[1;31m# This will throw an error because the tensor sizes are wrong!\u001b[0m\u001b[1;33m\u001b[0m\u001b[1;33m\u001b[0m\u001b[1;33m\u001b[0m\u001b[0m\n\u001b[1;32m----> 4\u001b[1;33m \u001b[0mmodel\u001b[0m\u001b[1;33m.\u001b[0m\u001b[0mload_state_dict\u001b[0m\u001b[1;33m(\u001b[0m\u001b[0mstate_dict\u001b[0m\u001b[1;33m)\u001b[0m\u001b[1;33m\u001b[0m\u001b[1;33m\u001b[0m\u001b[0m\n\u001b[0m",
      "\u001b[1;32m~\\Anaconda3\\lib\\site-packages\\torch\\nn\\modules\\module.py\u001b[0m in \u001b[0;36mload_state_dict\u001b[1;34m(self, state_dict, strict)\u001b[0m\n\u001b[0;32m    775\u001b[0m         \u001b[1;32mif\u001b[0m \u001b[0mlen\u001b[0m\u001b[1;33m(\u001b[0m\u001b[0merror_msgs\u001b[0m\u001b[1;33m)\u001b[0m \u001b[1;33m>\u001b[0m \u001b[1;36m0\u001b[0m\u001b[1;33m:\u001b[0m\u001b[1;33m\u001b[0m\u001b[1;33m\u001b[0m\u001b[0m\n\u001b[0;32m    776\u001b[0m             raise RuntimeError('Error(s) in loading state_dict for {}:\\n\\t{}'.format(\n\u001b[1;32m--> 777\u001b[1;33m                                self.__class__.__name__, \"\\n\\t\".join(error_msgs)))\n\u001b[0m\u001b[0;32m    778\u001b[0m         \u001b[1;32mreturn\u001b[0m \u001b[0m_IncompatibleKeys\u001b[0m\u001b[1;33m(\u001b[0m\u001b[0mmissing_keys\u001b[0m\u001b[1;33m,\u001b[0m \u001b[0munexpected_keys\u001b[0m\u001b[1;33m)\u001b[0m\u001b[1;33m\u001b[0m\u001b[1;33m\u001b[0m\u001b[0m\n\u001b[0;32m    779\u001b[0m \u001b[1;33m\u001b[0m\u001b[0m\n",
      "\u001b[1;31mRuntimeError\u001b[0m: Error(s) in loading state_dict for Network:\n\tsize mismatch for hidden_layers.0.weight: copying a param with shape torch.Size([512, 784]) from checkpoint, the shape in current model is torch.Size([400, 784]).\n\tsize mismatch for hidden_layers.0.bias: copying a param with shape torch.Size([512]) from checkpoint, the shape in current model is torch.Size([400]).\n\tsize mismatch for hidden_layers.1.weight: copying a param with shape torch.Size([256, 512]) from checkpoint, the shape in current model is torch.Size([200, 400]).\n\tsize mismatch for hidden_layers.1.bias: copying a param with shape torch.Size([256]) from checkpoint, the shape in current model is torch.Size([200]).\n\tsize mismatch for hidden_layers.2.weight: copying a param with shape torch.Size([128, 256]) from checkpoint, the shape in current model is torch.Size([100, 200]).\n\tsize mismatch for hidden_layers.2.bias: copying a param with shape torch.Size([128]) from checkpoint, the shape in current model is torch.Size([100]).\n\tsize mismatch for output.weight: copying a param with shape torch.Size([10, 128]) from checkpoint, the shape in current model is torch.Size([10, 100])."
     ]
    }
   ],
   "source": [
    "# Try this\n",
    "model = fc_model.Network(784, 10, [400, 200, 100])\n",
    "# This will throw an error because the tensor sizes are wrong!\n",
    "model.load_state_dict(state_dict)"
   ]
  },
  {
   "cell_type": "markdown",
   "metadata": {},
   "source": [
    "This means we need to rebuild the model exactly as it was when trained. Information about the model architecture needs to be saved in the checkpoint, along with the state dict. To do this, you build a dictionary with all the information you need to compeletely rebuild the model."
   ]
  },
  {
   "cell_type": "code",
   "execution_count": 11,
   "metadata": {},
   "outputs": [],
   "source": [
    "checkpoint = {'input_size': 784,\n",
    "              'output_size': 10,\n",
    "              'hidden_layers': [each.out_features for each in model.hidden_layers],\n",
    "              'state_dict': model.state_dict()}\n",
    "\n",
    "torch.save(checkpoint, 'checkpoint.pth')"
   ]
  },
  {
   "cell_type": "markdown",
   "metadata": {},
   "source": [
    "Now the checkpoint has all the necessary information to rebuild the trained model. You can easily make that a function if you want. Similarly, we can write a function to load checkpoints. "
   ]
  },
  {
   "cell_type": "code",
   "execution_count": 12,
   "metadata": {},
   "outputs": [],
   "source": [
    "def load_checkpoint(filepath):\n",
    "    checkpoint = torch.load(filepath)\n",
    "    model = fc_model.Network(checkpoint['input_size'],\n",
    "                             checkpoint['output_size'],\n",
    "                             checkpoint['hidden_layers'])\n",
    "    model.load_state_dict(checkpoint['state_dict'])\n",
    "    \n",
    "    return model"
   ]
  },
  {
   "cell_type": "code",
   "execution_count": 13,
   "metadata": {},
   "outputs": [
    {
     "name": "stdout",
     "output_type": "stream",
     "text": [
      "Network(\n",
      "  (hidden_layers): ModuleList(\n",
      "    (0): Linear(in_features=784, out_features=400, bias=True)\n",
      "    (1): Linear(in_features=400, out_features=200, bias=True)\n",
      "    (2): Linear(in_features=200, out_features=100, bias=True)\n",
      "  )\n",
      "  (output): Linear(in_features=100, out_features=10, bias=True)\n",
      "  (dropout): Dropout(p=0.5)\n",
      ")\n"
     ]
    }
   ],
   "source": [
    "model = load_checkpoint('checkpoint.pth')\n",
    "print(model)"
   ]
  }
 ],
 "metadata": {
  "kernelspec": {
   "display_name": "Python 3",
   "language": "python",
   "name": "python3"
  },
  "language_info": {
   "codemirror_mode": {
    "name": "ipython",
    "version": 3
   },
   "file_extension": ".py",
   "mimetype": "text/x-python",
   "name": "python",
   "nbconvert_exporter": "python",
   "pygments_lexer": "ipython3",
   "version": "3.7.3"
  }
 },
 "nbformat": 4,
 "nbformat_minor": 2
}
