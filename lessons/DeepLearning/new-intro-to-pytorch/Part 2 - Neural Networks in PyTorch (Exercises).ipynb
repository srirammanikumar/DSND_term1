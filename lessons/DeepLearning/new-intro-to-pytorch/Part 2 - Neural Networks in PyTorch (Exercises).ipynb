{
 "cells": [
  {
   "cell_type": "markdown",
   "metadata": {},
   "source": [
    "# Neural networks with PyTorch\n",
    "\n",
    "Deep learning networks tend to be massive with dozens or hundreds of layers, that's where the term \"deep\" comes from. You can build one of these deep networks using only weight matrices as we did in the previous notebook, but in general it's very cumbersome and difficult to implement. PyTorch has a nice module `nn` that provides a nice way to efficiently build large neural networks."
   ]
  },
  {
   "cell_type": "code",
   "execution_count": 1,
   "metadata": {},
   "outputs": [],
   "source": [
    "# Import necessary packages\n",
    "\n",
    "%matplotlib inline\n",
    "%config InlineBackend.figure_format = 'retina'\n",
    "\n",
    "import numpy as np\n",
    "import torch\n",
    "\n",
    "import helper\n",
    "\n",
    "import matplotlib.pyplot as plt"
   ]
  },
  {
   "cell_type": "markdown",
   "metadata": {},
   "source": [
    "\n",
    "Now we're going to build a larger network that can solve a (formerly) difficult problem, identifying text in an image. Here we'll use the MNIST dataset which consists of greyscale handwritten digits. Each image is 28x28 pixels, you can see a sample below\n",
    "\n",
    "<img src='assets/mnist.png'>\n",
    "\n",
    "Our goal is to build a neural network that can take one of these images and predict the digit in the image.\n",
    "\n",
    "First up, we need to get our dataset. This is provided through the `torchvision` package. The code below will download the MNIST dataset, then create training and test datasets for us. Don't worry too much about the details here, you'll learn more about this later."
   ]
  },
  {
   "cell_type": "code",
   "execution_count": 2,
   "metadata": {},
   "outputs": [],
   "source": [
    "### Run this cell\n",
    "\n",
    "from torchvision import datasets, transforms\n",
    "\n",
    "# Define a transform to normalize the data\n",
    "transform = transforms.Compose([transforms.ToTensor(),\n",
    "                              transforms.Normalize((0.5,), (0.5,)),\n",
    "                              ])\n",
    "\n",
    "# Download and load the training data\n",
    "trainset = datasets.MNIST('~/.pytorch/MNIST_data/', download=True, train=True, transform=transform)\n",
    "trainloader = torch.utils.data.DataLoader(trainset, batch_size=64, shuffle=True)"
   ]
  },
  {
   "cell_type": "markdown",
   "metadata": {},
   "source": [
    "We have the training data loaded into `trainloader` and we make that an iterator with `iter(trainloader)`. Later, we'll use this to loop through the dataset for training, like\n",
    "\n",
    "```python\n",
    "for image, label in trainloader:\n",
    "    ## do things with images and labels\n",
    "```\n",
    "\n",
    "You'll notice I created the `trainloader` with a batch size of 64, and `shuffle=True`. The batch size is the number of images we get in one iteration from the data loader and pass through our network, often called a *batch*. And `shuffle=True` tells it to shuffle the dataset every time we start going through the data loader again. But here I'm just grabbing the first batch so we can check out the data. We can see below that `images` is just a tensor with size `(64, 1, 28, 28)`. So, 64 images per batch, 1 color channel, and 28x28 images."
   ]
  },
  {
   "cell_type": "code",
   "execution_count": 3,
   "metadata": {},
   "outputs": [
    {
     "name": "stdout",
     "output_type": "stream",
     "text": [
      "<class 'torch.Tensor'>\n",
      "torch.Size([64, 1, 28, 28])\n",
      "torch.Size([64])\n"
     ]
    }
   ],
   "source": [
    "dataiter = iter(trainloader)\n",
    "images, labels = dataiter.next()\n",
    "print(type(images))\n",
    "print(images.shape)\n",
    "print(labels.shape)"
   ]
  },
  {
   "cell_type": "markdown",
   "metadata": {},
   "source": [
    "This is what one of the images looks like. "
   ]
  },
  {
   "cell_type": "code",
   "execution_count": 4,
   "metadata": {},
   "outputs": [
    {
     "data": {
      "image/png": "[encoded data removed]",
      "text/plain": [
       "<Figure size 432x288 with 1 Axes>"
      ]
     },
     "metadata": {
      "image/png": {
       "height": 250,
       "width": 253
      },
      "needs_background": "light"
     },
     "output_type": "display_data"
    }
   ],
   "source": [
    "plt.imshow(images[1].numpy().squeeze(), cmap='Greys_r');"
   ]
  },
  {
   "cell_type": "markdown",
   "metadata": {},
   "source": [
    "First, let's try to build a simple network for this dataset using weight matrices and matrix multiplications. Then, we'll see how to do it using PyTorch's `nn` module which provides a much more convenient and powerful method for defining network architectures.\n",
    "\n",
    "The networks you've seen so far are called *fully-connected* or *dense* networks. Each unit in one layer is connected to each unit in the next layer. In fully-connected networks, the input to each layer must be a one-dimensional vector (which can be stacked into a 2D tensor as a batch of multiple examples). However, our images are 28x28 2D tensors, so we need to convert them into 1D vectors. Thinking about sizes, we need to convert the batch of images with shape `(64, 1, 28, 28)` to a have a shape of `(64, 784)`, 784 is 28 times 28. This is typically called *flattening*, we flattened the 2D images into 1D vectors.\n",
    "\n",
    "Previously you built a network with one output unit. Here we need 10 output units, one for each digit. We want our network to predict the digit shown in an image, so what we'll do is calculate probabilities that the image is of any one digit or class. This ends up being a discrete probability distribution over the classes (digits) that tells us the most likely class for the image. That means we need 10 output units for the 10 classes (digits). We'll see how to convert the network output into a probability distribution next.\n",
    "\n",
    "> **Exercise:** Flatten the batch of images `images`. Then build a multi-layer network with 784 input units, 256 hidden units, and 10 output units using random tensors for the weights and biases. For now, use a sigmoid activation for the hidden layer. Leave the output layer without an activation, we'll add one that gives us a probability distribution next."
   ]
  },
  {
   "cell_type": "code",
   "execution_count": 5,
   "metadata": {},
   "outputs": [
    {
     "name": "stdout",
     "output_type": "stream",
     "text": [
      "torch.Size([64, 256])\n",
      "torch.Size([64, 10])\n",
      "tensor([[-2.0367e+01,  6.6864e+00,  2.1304e+01,  1.5211e+01, -2.1705e+00,\n",
      "          1.2630e+01,  1.5269e+01,  1.1537e+01,  1.3856e+01,  2.4489e+01],\n",
      "        [-2.5529e+01,  2.0492e+01,  1.9589e+01,  3.1900e+00,  5.0458e+00,\n",
      "          1.7221e+01,  1.4344e+00,  1.2149e+01,  1.1376e+01,  2.4218e+01],\n",
      "        [-1.6491e+01,  1.5988e+01,  1.7045e+01, -2.6667e-01, -1.4599e+01,\n",
      "          1.3321e+01,  2.4276e+00,  4.2852e+00,  2.1503e+01,  2.6192e+01],\n",
      "        [-1.7783e+01,  1.7612e+01,  1.9830e+01,  6.1685e+00,  9.1292e-01,\n",
      "         -1.7044e+00, -1.7681e-01,  8.5811e+00,  1.4806e+01,  2.8809e+01],\n",
      "        [-2.4157e+01,  1.4316e+01,  2.1222e+01,  7.4688e+00, -1.5503e+00,\n",
      "          2.4170e+01,  6.0226e-01, -2.8978e+00,  9.2357e+00,  1.9159e+01],\n",
      "        [-2.0860e+01,  1.7986e+01,  1.7783e+01,  1.1590e+01, -1.8392e+00,\n",
      "          8.8347e+00,  1.0377e+01,  1.3210e+01,  2.1378e+01,  3.3966e+01],\n",
      "        [-1.3599e+01,  1.0056e+01,  2.6329e+01,  9.9587e+00,  5.3465e+00,\n",
      "          7.7932e+00,  8.8886e+00,  8.2065e+00,  1.3501e+01,  3.0197e+01],\n",
      "        [-2.0558e+01,  1.2217e+01,  2.6994e+01, -8.7216e+00, -1.1080e+00,\n",
      "          1.6397e+01,  8.9850e+00,  9.0489e+00,  2.2022e+01,  2.0767e+01],\n",
      "        [-1.7178e+01,  2.5383e+01,  2.1912e+01,  5.0416e+00, -6.3110e+00,\n",
      "          2.0121e+01,  1.8305e+01,  4.0794e+00,  2.5589e+01,  2.8782e+01],\n",
      "        [-1.8658e+01,  1.9927e+01,  1.3910e+01,  4.5705e+00,  1.3678e+00,\n",
      "          1.2662e+01,  1.3001e+01,  8.8866e+00,  2.6448e+01,  1.9210e+01],\n",
      "        [-1.2814e+01,  1.9140e+01,  3.0832e+01,  1.0637e+01,  3.2322e+00,\n",
      "          1.0276e+01,  9.6378e+00,  7.4420e+00,  1.9302e+01,  2.9831e+01],\n",
      "        [-2.1018e+01,  1.3557e+01,  2.5517e+01,  2.6952e+00, -7.7543e+00,\n",
      "          1.8164e+01,  8.3019e+00,  8.1670e+00,  2.6831e+01,  3.0030e+01],\n",
      "        [-1.0820e+01,  1.0469e+01,  2.7201e+01,  4.0904e+00,  1.5858e+00,\n",
      "          6.5100e+00,  1.1049e+01,  3.3550e+00,  1.7947e+01,  2.7948e+01],\n",
      "        [-6.1241e+00,  2.7642e+01,  1.7983e+01, -2.1280e+00, -7.2734e+00,\n",
      "          8.9153e+00, -1.6357e+00,  9.5582e+00,  1.8077e+01,  2.3574e+01],\n",
      "        [-1.0589e+01,  1.8106e+01,  1.6150e+01,  3.0538e+00, -5.4834e+00,\n",
      "         -2.7196e-01,  8.3490e+00,  1.0254e+01,  3.0778e+01,  1.6825e+01],\n",
      "        [-2.6766e+01,  1.9414e+01,  1.9600e+01,  6.3552e+00, -8.5794e+00,\n",
      "          5.2625e-01, -4.7946e+00,  1.0338e+01,  1.6513e+01,  2.5367e+01],\n",
      "        [-1.9556e+01,  2.6392e+01,  2.4210e+01,  5.3323e+00,  1.0964e+00,\n",
      "         -3.9749e+00,  1.2874e+01,  2.6531e+00,  2.8102e+01,  3.2641e+01],\n",
      "        [-1.5079e+01,  1.1225e+01,  1.5447e+01,  1.0394e+01, -7.1836e+00,\n",
      "          7.7067e+00,  1.8673e+01,  1.0816e+01,  1.6165e+01,  2.9578e+01],\n",
      "        [-2.0396e+01,  1.2585e+01,  1.5844e+01,  1.9760e+00, -3.5140e+00,\n",
      "          9.0064e+00,  9.5193e+00,  9.4297e+00,  2.0985e+01,  2.4016e+01],\n",
      "        [-1.5078e+01,  1.3350e+01,  2.0956e+01,  1.3374e+01, -8.5182e+00,\n",
      "          7.1420e+00,  1.4846e+01,  6.1592e+00,  2.4781e+01,  2.4889e+01],\n",
      "        [-1.4268e+01,  1.9440e+01,  2.3953e+01,  1.1400e+01, -3.9729e+00,\n",
      "          6.5371e+00,  6.2691e+00,  1.5659e+01,  1.3334e+01,  1.7564e+01],\n",
      "        [-2.1813e+01,  2.0492e+01,  3.3172e+01,  1.1331e+01, -6.2243e-01,\n",
      "          1.8597e+01,  1.6292e+01,  1.6246e-02,  2.3272e+01,  2.9811e+01],\n",
      "        [-7.0769e+00,  1.6384e+01,  2.3952e+01,  1.3068e+01,  8.8808e-02,\n",
      "          2.5766e+00,  2.2290e+00,  6.2277e+00,  6.9633e+00,  3.5186e+01],\n",
      "        [-1.0900e+01,  1.9411e+01,  2.8300e+01,  5.4853e+00, -2.6934e+00,\n",
      "          2.1326e+01,  2.5763e+01,  4.3688e+00,  2.2181e+01,  4.2296e+01],\n",
      "        [-1.4223e+01,  1.1881e+01,  2.1005e+01,  5.8909e+00, -2.7575e+00,\n",
      "          1.4065e+01,  8.9951e+00,  4.6709e+00,  2.4636e+01,  2.0555e+01],\n",
      "        [-3.0541e+01,  2.1752e+01,  1.9878e+01, -9.9466e-01, -7.9531e+00,\n",
      "          1.2972e+01, -1.3976e+00,  8.9984e+00,  2.7131e+01,  1.4472e+01],\n",
      "        [-1.3328e+01,  2.9669e+01,  1.6891e+01, -4.9561e+00, -2.7625e+00,\n",
      "          1.3189e+01, -3.0803e+00,  2.0582e+00,  2.0343e+01,  2.2668e+01],\n",
      "        [-2.0560e+01,  2.5964e+01,  1.9464e+01, -1.4055e+00,  3.4366e+00,\n",
      "          5.8708e+00, -5.4697e-01,  9.2255e+00,  1.5283e+01,  3.2559e+01],\n",
      "        [-2.0445e+01,  1.6779e+01,  2.2185e+01,  5.1557e+00, -4.7305e+00,\n",
      "          7.5888e+00,  1.1659e+01,  1.0447e+01,  2.8772e+01,  1.8890e+01],\n",
      "        [-1.9294e+01,  1.8384e+01,  2.8248e+01,  7.8172e+00, -4.5893e+00,\n",
      "          1.3155e+01,  5.5771e+00,  1.1983e-01,  1.1526e+01,  3.7325e+01],\n",
      "        [-1.5523e+01,  1.1042e+01,  2.1406e+01,  1.1094e+01,  1.3417e-01,\n",
      "          6.5861e+00,  1.3765e+01,  9.8655e+00,  2.1199e+01,  2.8708e+01],\n",
      "        [-1.7503e+01,  1.4703e+01,  2.5430e+01, -3.8850e-01,  3.3386e+00,\n",
      "          5.7288e+00,  3.3877e+00,  3.8058e+00,  1.8253e+01,  3.0983e+01],\n",
      "        [-1.6102e+01,  1.9290e+01,  1.7418e+01,  3.2991e+00,  2.3281e+00,\n",
      "          8.2233e+00,  9.9639e+00,  6.2498e+00,  1.5965e+01,  2.9551e+01],\n",
      "        [-5.4507e+00,  2.3431e+01,  2.0468e+01,  6.9615e+00, -5.7284e+00,\n",
      "          1.0217e+01,  4.3005e+00,  4.0140e-01,  1.4798e+01,  2.5324e+01],\n",
      "        [-1.5691e+01,  2.2104e+01,  2.0998e+01,  4.8484e+00, -5.8207e-01,\n",
      "          2.0617e+01,  1.4438e+01,  5.7985e+00,  2.3694e+01,  2.3562e+01],\n",
      "        [-1.4040e+01,  1.4028e+01,  2.1132e+01,  1.6497e+00, -1.5052e+00,\n",
      "          8.3768e+00,  1.0101e+01,  1.4479e+01,  1.6039e+01,  3.3470e+01],\n",
      "        [-1.6268e+01,  1.2525e+01,  2.3413e+01,  1.1446e+01, -5.1575e+00,\n",
      "         -3.2871e+00,  1.0224e+01,  1.2319e+01,  1.0177e+01,  3.3730e+01],\n",
      "        [-1.7928e+01,  2.1947e+01,  1.5498e+01,  8.3053e+00, -1.1006e+01,\n",
      "          4.2493e+00,  1.5277e+01,  3.7224e+00,  2.4521e+01,  2.1436e+01],\n",
      "        [-5.8915e-01,  2.9298e+01,  2.0625e+01,  2.6508e+00, -8.1634e+00,\n",
      "          1.1994e+01,  5.2770e+00,  1.0563e+01,  1.2398e+01,  1.0731e+01],\n",
      "        [-1.8453e+01,  1.4684e+01,  2.0643e+01, -3.9084e+00, -7.5538e+00,\n",
      "          6.9594e+00,  9.0237e+00,  7.6590e+00,  1.8503e+01,  1.9702e+01],\n",
      "        [-2.0912e+01,  1.2259e+01,  1.8692e+01,  3.4520e+00, -4.5477e+00,\n",
      "          1.3779e+01,  3.8613e+00,  1.2637e+01,  2.1077e+01,  3.7334e+01],\n",
      "        [-1.5276e+01,  2.2870e+01,  1.3454e+01,  1.3340e+01, -5.9994e+00,\n",
      "          1.5279e+01,  1.7755e+01,  1.0452e+01,  1.6199e+01,  2.2432e+01],\n",
      "        [-8.6248e+00,  2.4178e+01,  2.0935e+01,  3.8580e+00, -3.0398e+00,\n",
      "          1.0818e+01,  1.4465e+00,  5.8180e+00,  1.4735e+01,  2.1239e+01],\n",
      "        [-2.3033e+01,  2.3561e+01,  2.6674e+01, -2.9326e+00, -1.5960e+00,\n",
      "          1.1051e+01,  9.8486e+00,  1.4376e+00,  2.9519e+01,  2.3923e+01],\n",
      "        [-8.3667e+00,  2.0751e+01,  1.5069e+01,  9.9084e+00, -1.1854e+00,\n",
      "          9.0086e+00,  1.0897e+01,  3.9716e-01,  2.7946e+01,  2.4682e+01],\n",
      "        [-2.0723e+01,  1.1753e+01,  2.0885e+01,  7.3385e+00, -7.5729e+00,\n",
      "          4.0944e+00,  1.0904e+01,  2.1022e+01,  1.8600e+01,  3.6188e+01],\n",
      "        [-1.4976e+01,  1.5390e+01,  2.5464e+01,  5.3336e+00, -4.7534e+00,\n",
      "          1.3130e+01,  8.1732e+00, -1.2313e+00,  2.1864e+01,  2.8401e+01],\n",
      "        [-1.3916e+01,  1.6055e+01,  1.5235e+01,  1.2456e+01, -7.8809e+00,\n",
      "          6.8077e+00,  1.4184e+01,  1.4309e+01,  1.3423e+01,  3.4337e+01],\n",
      "        [-1.6333e+01,  1.8158e+01,  2.4862e+01,  7.9732e+00, -4.6261e+00,\n",
      "          1.4943e+01,  3.3422e+00,  3.7098e+00,  2.2910e+01,  3.2956e+01],\n",
      "        [-1.7737e+01,  1.4463e+01,  2.7259e+01,  4.8218e+00,  1.1541e+00,\n",
      "          1.0285e+01,  7.7830e+00,  3.6681e+00,  1.1630e+01,  3.1130e+01],\n",
      "        [-2.6224e+01,  1.8314e+01,  2.9930e+01,  4.0875e+00, -3.7712e+00,\n",
      "          1.2376e+01,  1.1454e+01,  6.5833e+00,  2.8916e+01,  2.5957e+01],\n",
      "        [-1.8968e+01,  1.4090e+01,  1.9111e+01,  4.2420e+00, -6.7544e+00,\n",
      "          1.1398e+01,  5.5909e+00,  9.3189e+00,  2.0748e+01,  2.1242e+01],\n",
      "        [-1.9723e+01,  2.9947e+01,  2.4928e+01,  8.1881e+00, -9.2660e+00,\n",
      "          7.4151e+00,  2.1428e+01,  7.8506e+00,  2.8230e+01,  2.8067e+01],\n",
      "        [-1.3418e+01,  1.2786e+01,  1.6913e+01,  5.0971e+00, -7.8345e+00,\n",
      "          1.5189e+01,  7.4242e+00,  6.6962e+00,  2.4108e+01,  2.2832e+01],\n",
      "        [-1.5673e+01,  1.9124e+01,  2.4931e+01,  1.7672e+01, -5.3351e+00,\n",
      "          1.9357e+01,  4.8236e+00,  8.2234e+00,  2.1547e+01,  3.5945e+01],\n",
      "        [-2.5304e+01,  1.9014e+01,  1.8123e+01, -1.1093e+00, -1.1937e+01,\n",
      "          8.7079e+00,  5.9369e+00,  2.0708e+01,  2.9086e+01,  2.9192e+01],\n",
      "        [-1.3903e+01,  2.6611e+01,  2.0611e+01,  7.5573e+00, -9.1919e+00,\n",
      "          1.1704e+01,  1.5743e+01,  1.1352e+01,  2.6869e+01,  1.9896e+01],\n",
      "        [-1.3090e+01,  1.9069e+01,  2.5627e+01,  4.7751e-01, -3.3501e+00,\n",
      "          1.9797e+01,  1.1124e+00, -6.9875e+00,  1.7591e+01,  2.9522e+01],\n",
      "        [-1.4599e+01,  1.6769e+01,  2.2173e+01,  5.1677e+00, -3.7069e+00,\n",
      "          1.1954e+01,  5.3734e+00,  2.2047e+01,  2.0275e+01,  2.9448e+01],\n",
      "        [-1.8844e+01,  1.4226e+01,  2.5537e+01,  1.1483e+00, -7.0999e+00,\n",
      "          2.0526e+01,  8.2115e+00,  3.0045e+00,  1.9758e+01,  3.3741e+01],\n",
      "        [-1.6426e+01,  1.6242e+01,  3.0301e+01,  7.0905e+00, -4.3657e+00,\n",
      "          1.2449e+01,  8.6407e+00,  6.3053e+00,  1.2053e+01,  3.2847e+01],\n",
      "        [-1.0549e+01,  1.8363e+01,  1.3527e+01,  6.3516e+00, -8.8664e+00,\n",
      "          1.1474e+01,  1.4418e+01,  1.0044e+01,  2.3073e+01,  3.4406e+01],\n",
      "        [-2.6555e+01,  1.7899e+01,  2.3055e+01,  5.1872e+00, -9.6113e+00,\n",
      "          1.6885e+01,  4.0430e+00,  1.3484e+01,  2.9542e+01,  2.1907e+01],\n",
      "        [-3.6032e+01,  1.1745e+01,  2.4265e+01,  2.8453e+00, -3.7401e+00,\n"
     ]
    },
    {
     "name": "stdout",
     "output_type": "stream",
     "text": [
      "          8.6413e+00,  1.0676e+00,  1.8245e+01,  2.3307e+01,  3.3216e+01]])\n"
     ]
    }
   ],
   "source": [
    "## Your solution\n",
    "\n",
    "def activation(x):\n",
    "    return 1/(1+torch.exp(-x))\n",
    "\n",
    "#Flatennig , -1 is when you are unsure of no.of columns\n",
    "inputs = images.view(images.shape[0], - 1)\n",
    "\n",
    "ip_weights = torch.randn(inputs.shape[1], 256)\n",
    "ip_bias = torch.randn(256)\n",
    "\n",
    "h_weights = torch.randn(256,10)\n",
    "h_bias = torch.randn(10)\n",
    "\n",
    "hidden = activation(torch.mm(inputs,ip_weights)+ip_bias)\n",
    "print(hidden.shape)\n",
    "out = torch.mm(hidden,h_weights) + h_bias\n",
    "print(out.shape)\n",
    "print(out)\n",
    "# output of your network, should have shape (64,10)"
   ]
  },
  {
   "cell_type": "markdown",
   "metadata": {},
   "source": [
    "Now we have 10 outputs for our network. We want to pass in an image to our network and get out a probability distribution over the classes that tells us the likely class(es) the image belongs to. Something that looks like this:\n",
    "<img src='assets/image_distribution.png' width=500px>\n",
    "\n",
    "Here we see that the probability for each class is roughly the same. This is representing an untrained network, it hasn't seen any data yet so it just returns a uniform distribution with equal probabilities for each class.\n",
    "\n",
    "To calculate this probability distribution, we often use the [**softmax** function](https://en.wikipedia.org/wiki/Softmax_function). Mathematically this looks like\n",
    "\n",
    "$$\n",
    "\\Large \\sigma(x_i) = \\cfrac{e^{x_i}}{\\sum_k^K{e^{x_k}}}\n",
    "$$\n",
    "\n",
    "What this does is squish each input $x_i$ between 0 and 1 and normalizes the values to give you a proper probability distribution where the probabilites sum up to one.\n",
    "\n",
    "> **Exercise:** Implement a function `softmax` that performs the softmax calculation and returns probability distributions for each example in the batch. Note that you'll need to pay attention to the shapes when doing this. If you have a tensor `a` with shape `(64, 10)` and a tensor `b` with shape `(64,)`, doing `a/b` will give you an error because PyTorch will try to do the division across the columns (called broadcasting) but you'll get a size mismatch. The way to think about this is for each of the 64 examples, you only want to divide by one value, the sum in the denominator. So you need `b` to have a shape of `(64, 1)`. This way PyTorch will divide the 10 values in each row of `a` by the one value in each row of `b`. Pay attention to how you take the sum as well. You'll need to define the `dim` keyword in `torch.sum`. Setting `dim=0` takes the sum across the rows while `dim=1` takes the sum across the columns."
   ]
  },
  {
   "cell_type": "code",
   "execution_count": 6,
   "metadata": {},
   "outputs": [
    {
     "name": "stdout",
     "output_type": "stream",
     "text": [
      "torch.Size([64, 10])\n",
      "tensor([1.0000, 1.0000, 1.0000, 1.0000, 1.0000, 1.0000, 1.0000, 1.0000, 1.0000,\n",
      "        1.0000, 1.0000, 1.0000, 1.0000, 1.0000, 1.0000, 1.0000, 1.0000, 1.0000,\n",
      "        1.0000, 1.0000, 1.0000, 1.0000, 1.0000, 1.0000, 1.0000, 1.0000, 1.0000,\n",
      "        1.0000, 1.0000, 1.0000, 1.0000, 1.0000, 1.0000, 1.0000, 1.0000, 1.0000,\n",
      "        1.0000, 1.0000, 1.0000, 1.0000, 1.0000, 1.0000, 1.0000, 1.0000, 1.0000,\n",
      "        1.0000, 1.0000, 1.0000, 1.0000, 1.0000, 1.0000, 1.0000, 1.0000, 1.0000,\n",
      "        1.0000, 1.0000, 1.0000, 1.0000, 1.0000, 1.0000, 1.0000, 1.0000, 1.0000,\n",
      "        1.0000])\n"
     ]
    }
   ],
   "source": [
    "def softmax(x):\n",
    "    ## TODO: Implement the softmax function here\n",
    "    temp = torch.exp(x)\n",
    "    return temp / temp.sum(dim=1).view(-1,1)\n",
    "\n",
    "# Here, out should be the output of the network in the previous excercise with shape (64,10)\n",
    "probabilities = softmax(out)\n",
    "\n",
    "# Does it have the right shape? Should be (64, 10)\n",
    "print(probabilities.shape)\n",
    "# Does it sum to 1?\n",
    "print(probabilities.sum(dim=1))"
   ]
  },
  {
   "cell_type": "markdown",
   "metadata": {},
   "source": [
    "## Building networks with PyTorch\n",
    "\n",
    "PyTorch provides a module `nn` that makes building networks much simpler. Here I'll show you how to build the same one as above with 784 inputs, 256 hidden units, 10 output units and a softmax output."
   ]
  },
  {
   "cell_type": "code",
   "execution_count": 7,
   "metadata": {},
   "outputs": [],
   "source": [
    "from torch import nn"
   ]
  },
  {
   "cell_type": "code",
   "execution_count": 8,
   "metadata": {},
   "outputs": [],
   "source": [
    "class Network(nn.Module):\n",
    "    def __init__(self):\n",
    "        super().__init__()\n",
    "        \n",
    "        # Inputs to hidden layer linear transformation\n",
    "        self.hidden = nn.Linear(784, 256)\n",
    "        # Output layer, 10 units - one for each digit\n",
    "        self.output = nn.Linear(256, 10)\n",
    "        \n",
    "        # Define sigmoid activation and softmax output \n",
    "        self.sigmoid = nn.Sigmoid()\n",
    "        self.softmax = nn.Softmax(dim=1)\n",
    "        \n",
    "    def forward(self, x):\n",
    "        # Pass the input tensor through each of our operations\n",
    "        x = self.hidden(x)\n",
    "        x = self.sigmoid(x)\n",
    "        x = self.output(x)\n",
    "        x = self.softmax(x)\n",
    "        \n",
    "        return x"
   ]
  },
  {
   "cell_type": "markdown",
   "metadata": {},
   "source": [
    "Let's go through this bit by bit.\n",
    "\n",
    "```python\n",
    "class Network(nn.Module):\n",
    "```\n",
    "\n",
    "Here we're inheriting from `nn.Module`. Combined with `super().__init__()` this creates a class that tracks the architecture and provides a lot of useful methods and attributes. It is mandatory to inherit from `nn.Module` when you're creating a class for your network. The name of the class itself can be anything.\n",
    "\n",
    "```python\n",
    "self.hidden = nn.Linear(784, 256)\n",
    "```\n",
    "\n",
    "This line creates a module for a linear transformation, $x\\mathbf{W} + b$, with 784 inputs and 256 outputs and assigns it to `self.hidden`. The module automatically creates the weight and bias tensors which we'll use in the `forward` method. You can access the weight and bias tensors once the network (`net`) is created with `net.hidden.weight` and `net.hidden.bias`.\n",
    "\n",
    "```python\n",
    "self.output = nn.Linear(256, 10)\n",
    "```\n",
    "\n",
    "Similarly, this creates another linear transformation with 256 inputs and 10 outputs.\n",
    "\n",
    "```python\n",
    "self.sigmoid = nn.Sigmoid()\n",
    "self.softmax = nn.Softmax(dim=1)\n",
    "```\n",
    "\n",
    "Here I defined operations for the sigmoid activation and softmax output. Setting `dim=1` in `nn.Softmax(dim=1)` calculates softmax across the columns.\n",
    "\n",
    "```python\n",
    "def forward(self, x):\n",
    "```\n",
    "\n",
    "PyTorch networks created with `nn.Module` must have a `forward` method defined. It takes in a tensor `x` and passes it through the operations you defined in the `__init__` method.\n",
    "\n",
    "```python\n",
    "x = self.hidden(x)\n",
    "x = self.sigmoid(x)\n",
    "x = self.output(x)\n",
    "x = self.softmax(x)\n",
    "```\n",
    "\n",
    "Here the input tensor `x` is passed through each operation a reassigned to `x`. We can see that the input tensor goes through the hidden layer, then a sigmoid function, then the output layer, and finally the softmax function. It doesn't matter what you name the variables here, as long as the inputs and outputs of the operations match the network architecture you want to build. The order in which you define things in the `__init__` method doesn't matter, but you'll need to sequence the operations correctly in the `forward` method.\n",
    "\n",
    "Now we can create a `Network` object."
   ]
  },
  {
   "cell_type": "code",
   "execution_count": 9,
   "metadata": {},
   "outputs": [
    {
     "data": {
      "text/plain": [
       "Network(\n",
       "  (hidden): Linear(in_features=784, out_features=256, bias=True)\n",
       "  (output): Linear(in_features=256, out_features=10, bias=True)\n",
       "  (sigmoid): Sigmoid()\n",
       "  (softmax): Softmax()\n",
       ")"
      ]
     },
     "execution_count": 9,
     "metadata": {},
     "output_type": "execute_result"
    }
   ],
   "source": [
    "# Create the network and look at it's text representation\n",
    "model = Network()\n",
    "model"
   ]
  },
  {
   "cell_type": "markdown",
   "metadata": {},
   "source": [
    "You can define the network somewhat more concisely and clearly using the `torch.nn.functional` module. This is the most common way you'll see networks defined as many operations are simple element-wise functions. We normally import this module as `F`, `import torch.nn.functional as F`."
   ]
  },
  {
   "cell_type": "code",
   "execution_count": 10,
   "metadata": {},
   "outputs": [],
   "source": [
    "import torch.nn.functional as F\n",
    "\n",
    "class Network(nn.Module):\n",
    "    def __init__(self):\n",
    "        super().__init__()\n",
    "        # Inputs to hidden layer linear transformation\n",
    "        self.hidden = nn.Linear(784, 256)\n",
    "        # Output layer, 10 units - one for each digit\n",
    "        self.output = nn.Linear(256, 10)\n",
    "        \n",
    "    def forward(self, x):\n",
    "        # Hidden layer with sigmoid activation\n",
    "        x = F.sigmoid(self.hidden(x))\n",
    "        # Output layer with softmax activation\n",
    "        x = F.softmax(self.output(x), dim=1)\n",
    "        \n",
    "        return x"
   ]
  },
  {
   "cell_type": "markdown",
   "metadata": {},
   "source": [
    "### Activation functions\n",
    "\n",
    "So far we've only been looking at the softmax activation, but in general any function can be used as an activation function. The only requirement is that for a network to approximate a non-linear function, the activation functions must be non-linear. Here are a few more examples of common activation functions: Tanh (hyperbolic tangent), and ReLU (rectified linear unit).\n",
    "\n",
    "<img src=\"assets/activation.png\" width=700px>\n",
    "\n",
    "In practice, the ReLU function is used almost exclusively as the activation function for hidden layers."
   ]
  },
  {
   "cell_type": "markdown",
   "metadata": {},
   "source": [
    "### Your Turn to Build a Network\n",
    "\n",
    "<img src=\"assets/mlp_mnist.png\" width=600px>\n",
    "\n",
    "> **Exercise:** Create a network with 784 input units, a hidden layer with 128 units and a ReLU activation, then a hidden layer with 64 units and a ReLU activation, and finally an output layer with a softmax activation as shown above. You can use a ReLU activation with the `nn.ReLU` module or `F.relu` function."
   ]
  },
  {
   "cell_type": "code",
   "execution_count": 14,
   "metadata": {
    "scrolled": true
   },
   "outputs": [
    {
     "data": {
      "text/plain": [
       "Network(\n",
       "  (fc1): Linear(in_features=784, out_features=128, bias=True)\n",
       "  (fc2): Linear(in_features=128, out_features=64, bias=True)\n",
       "  (fc3): Linear(in_features=64, out_features=10, bias=True)\n",
       ")"
      ]
     },
     "execution_count": 14,
     "metadata": {},
     "output_type": "execute_result"
    }
   ],
   "source": [
    "## Your solution here\n",
    "class Network(nn.Module):\n",
    "    def __init__(self):\n",
    "        super().__init__()\n",
    "        # Inputs to hidden layer linear transformation\n",
    "        self.fc1 = nn.Linear(784, 128)\n",
    "        self.fc2 = nn.Linear(128, 64)\n",
    "        # Output layer, 10 units - one for each digit\n",
    "        self.fc3 = nn.Linear(64, 10)\n",
    "        \n",
    "    def forward(self, x):\n",
    "        # Hidden layer with sigmoid activation\n",
    "        x = F.relu(self.fc1(x))\n",
    "        x = F.relu(self.fc2(x))\n",
    "        # Output layer with softmax activation\n",
    "        x = F.softmax(self.fc3(x), dim=1)\n",
    "        \n",
    "        return x\n",
    "    \n",
    "model = Network()\n",
    "model"
   ]
  },
  {
   "cell_type": "markdown",
   "metadata": {},
   "source": [
    "### Initializing weights and biases\n",
    "\n",
    "The weights and such are automatically initialized for you, but it's possible to customize how they are initialized. The weights and biases are tensors attached to the layer you defined, you can get them with `model.fc1.weight` for instance."
   ]
  },
  {
   "cell_type": "code",
   "execution_count": 15,
   "metadata": {},
   "outputs": [
    {
     "name": "stdout",
     "output_type": "stream",
     "text": [
      "Parameter containing:\n",
      "tensor([[ 0.0151,  0.0082,  0.0050,  ...,  0.0018,  0.0037, -0.0075],\n",
      "        [-0.0354, -0.0329, -0.0081,  ..., -0.0236, -0.0291,  0.0184],\n",
      "        [ 0.0164, -0.0175,  0.0094,  ..., -0.0253,  0.0244, -0.0297],\n",
      "        ...,\n",
      "        [-0.0110, -0.0193,  0.0277,  ...,  0.0052, -0.0140, -0.0255],\n",
      "        [ 0.0181, -0.0299, -0.0236,  ...,  0.0230, -0.0178, -0.0199],\n",
      "        [-0.0214, -0.0202,  0.0245,  ...,  0.0328, -0.0240,  0.0275]],\n",
      "       requires_grad=True)\n",
      "Parameter containing:\n",
      "tensor([ 0.0042,  0.0267, -0.0031,  0.0086,  0.0322, -0.0173,  0.0301,  0.0142,\n",
      "         0.0133,  0.0233,  0.0156,  0.0023, -0.0212, -0.0070,  0.0084,  0.0191,\n",
      "         0.0162, -0.0334, -0.0081,  0.0272, -0.0330,  0.0273,  0.0345,  0.0176,\n",
      "         0.0145,  0.0119,  0.0285,  0.0145, -0.0039,  0.0141,  0.0035, -0.0051,\n",
      "        -0.0136,  0.0222,  0.0068, -0.0198, -0.0297, -0.0332, -0.0155,  0.0014,\n",
      "         0.0322, -0.0002, -0.0148,  0.0042,  0.0161,  0.0252,  0.0034,  0.0288,\n",
      "         0.0312, -0.0251, -0.0086,  0.0203, -0.0027,  0.0201,  0.0347, -0.0276,\n",
      "         0.0166, -0.0288,  0.0168,  0.0236, -0.0065,  0.0015, -0.0088, -0.0325,\n",
      "         0.0030, -0.0043, -0.0282,  0.0226, -0.0064,  0.0017, -0.0093, -0.0102,\n",
      "         0.0142, -0.0103,  0.0162,  0.0252,  0.0002, -0.0091, -0.0342, -0.0169,\n",
      "        -0.0044, -0.0206,  0.0197, -0.0243, -0.0061,  0.0126, -0.0175, -0.0056,\n",
      "         0.0075,  0.0304, -0.0092, -0.0089,  0.0209,  0.0090,  0.0278, -0.0059,\n",
      "        -0.0175,  0.0166, -0.0209, -0.0220, -0.0284, -0.0285, -0.0080,  0.0294,\n",
      "         0.0263, -0.0260,  0.0234, -0.0006,  0.0091, -0.0276,  0.0130, -0.0057,\n",
      "        -0.0023, -0.0143, -0.0273,  0.0106,  0.0267,  0.0112,  0.0003,  0.0073,\n",
      "         0.0348,  0.0244, -0.0038, -0.0137, -0.0348, -0.0329,  0.0040,  0.0296],\n",
      "       requires_grad=True)\n"
     ]
    }
   ],
   "source": [
    "print(model.fc1.weight)\n",
    "print(model.fc1.bias)"
   ]
  },
  {
   "cell_type": "markdown",
   "metadata": {},
   "source": [
    "For custom initialization, we want to modify these tensors in place. These are actually autograd *Variables*, so we need to get back the actual tensors with `model.fc1.weight.data`. Once we have the tensors, we can fill them with zeros (for biases) or random normal values."
   ]
  },
  {
   "cell_type": "code",
   "execution_count": 16,
   "metadata": {},
   "outputs": [
    {
     "data": {
      "text/plain": [
       "tensor([0., 0., 0., 0., 0., 0., 0., 0., 0., 0., 0., 0., 0., 0., 0., 0., 0., 0., 0., 0., 0., 0., 0., 0.,\n",
       "        0., 0., 0., 0., 0., 0., 0., 0., 0., 0., 0., 0., 0., 0., 0., 0., 0., 0., 0., 0., 0., 0., 0., 0.,\n",
       "        0., 0., 0., 0., 0., 0., 0., 0., 0., 0., 0., 0., 0., 0., 0., 0., 0., 0., 0., 0., 0., 0., 0., 0.,\n",
       "        0., 0., 0., 0., 0., 0., 0., 0., 0., 0., 0., 0., 0., 0., 0., 0., 0., 0., 0., 0., 0., 0., 0., 0.,\n",
       "        0., 0., 0., 0., 0., 0., 0., 0., 0., 0., 0., 0., 0., 0., 0., 0., 0., 0., 0., 0., 0., 0., 0., 0.,\n",
       "        0., 0., 0., 0., 0., 0., 0., 0.])"
      ]
     },
     "execution_count": 16,
     "metadata": {},
     "output_type": "execute_result"
    }
   ],
   "source": [
    "# Set biases to all zeros\n",
    "model.fc1.bias.data.fill_(0)"
   ]
  },
  {
   "cell_type": "code",
   "execution_count": 17,
   "metadata": {},
   "outputs": [
    {
     "data": {
      "text/plain": [
       "tensor([[-0.0047, -0.0102,  0.0051,  ..., -0.0019,  0.0070,  0.0026],\n",
       "        [-0.0296,  0.0147,  0.0109,  ...,  0.0018, -0.0022, -0.0194],\n",
       "        [-0.0011,  0.0100,  0.0068,  ...,  0.0068, -0.0094,  0.0021],\n",
       "        ...,\n",
       "        [ 0.0031, -0.0066, -0.0010,  ...,  0.0042, -0.0081,  0.0179],\n",
       "        [-0.0289, -0.0124,  0.0146,  ..., -0.0145, -0.0019, -0.0222],\n",
       "        [-0.0012, -0.0020,  0.0048,  ..., -0.0126,  0.0059, -0.0019]])"
      ]
     },
     "execution_count": 17,
     "metadata": {},
     "output_type": "execute_result"
    }
   ],
   "source": [
    "# sample from random normal with standard dev = 0.01\n",
    "model.fc1.weight.data.normal_(std=0.01)"
   ]
  },
  {
   "cell_type": "markdown",
   "metadata": {},
   "source": [
    "### Forward pass\n",
    "\n",
    "Now that we have a network, let's see what happens when we pass in an image."
   ]
  },
  {
   "cell_type": "code",
   "execution_count": 18,
   "metadata": {},
   "outputs": [
    {
     "data": {
      "image/png": "[encoded data removed]",
      "text/plain": [
       "<Figure size 432x648 with 2 Axes>"
      ]
     },
     "metadata": {
      "image/png": {
       "height": 226,
       "width": 423
      },
      "needs_background": "light"
     },
     "output_type": "display_data"
    }
   ],
   "source": [
    "# Grab some data \n",
    "dataiter = iter(trainloader)\n",
    "images, labels = dataiter.next()\n",
    "\n",
    "# Resize images into a 1D vector, new shape is (batch size, color channels, image pixels) \n",
    "images.resize_(64, 1, 784)\n",
    "# or images.resize_(images.shape[0], 1, 784) to automatically get batch size\n",
    "\n",
    "# Forward pass through the network\n",
    "img_idx = 0\n",
    "ps = model.forward(images[img_idx,:])\n",
    "\n",
    "img = images[img_idx]\n",
    "helper.view_classify(img.view(1, 28, 28), ps)"
   ]
  },
  {
   "cell_type": "markdown",
   "metadata": {},
   "source": [
    "As you can see above, our network has basically no idea what this digit is. It's because we haven't trained it yet, all the weights are random!\n",
    "\n",
    "### Using `nn.Sequential`\n",
    "\n",
    "PyTorch provides a convenient way to build networks like this where a tensor is passed sequentially through operations, `nn.Sequential` ([documentation](https://pytorch.org/docs/master/nn.html#torch.nn.Sequential)). Using this to build the equivalent network:"
   ]
  },
  {
   "cell_type": "code",
   "execution_count": 19,
   "metadata": {},
   "outputs": [
    {
     "name": "stdout",
     "output_type": "stream",
     "text": [
      "Sequential(\n",
      "  (0): Linear(in_features=784, out_features=128, bias=True)\n",
      "  (1): ReLU()\n",
      "  (2): Linear(in_features=128, out_features=64, bias=True)\n",
      "  (3): ReLU()\n",
      "  (4): Linear(in_features=64, out_features=10, bias=True)\n",
      "  (5): Softmax()\n",
      ")\n"
     ]
    },
    {
     "data": {
      "image/png": "[encoded data removed]",
      "text/plain": [
       "<Figure size 432x648 with 2 Axes>"
      ]
     },
     "metadata": {
      "image/png": {
       "height": 226,
       "width": 423
      },
      "needs_background": "light"
     },
     "output_type": "display_data"
    }
   ],
   "source": [
    "# Hyperparameters for our network\n",
    "input_size = 784\n",
    "hidden_sizes = [128, 64]\n",
    "output_size = 10\n",
    "\n",
    "# Build a feed-forward network\n",
    "model = nn.Sequential(nn.Linear(input_size, hidden_sizes[0]),\n",
    "                      nn.ReLU(),\n",
    "                      nn.Linear(hidden_sizes[0], hidden_sizes[1]),\n",
    "                      nn.ReLU(),\n",
    "                      nn.Linear(hidden_sizes[1], output_size),\n",
    "                      nn.Softmax(dim=1))\n",
    "print(model)\n",
    "\n",
    "# Forward pass through the network and display output\n",
    "images, labels = next(iter(trainloader))\n",
    "images.resize_(images.shape[0], 1, 784)\n",
    "ps = model.forward(images[0,:])\n",
    "helper.view_classify(images[0].view(1, 28, 28), ps)"
   ]
  },
  {
   "cell_type": "markdown",
   "metadata": {},
   "source": [
    "Here our model is the same as before: 784 input units, a hidden layer with 128 units, ReLU activation, 64 unit hidden layer, another ReLU, then the output layer with 10 units, and the softmax output.\n",
    "\n",
    "The operations are availble by passing in the appropriate index. For example, if you want to get first Linear operation and look at the weights, you'd use `model[0]`."
   ]
  },
  {
   "cell_type": "code",
   "execution_count": 20,
   "metadata": {},
   "outputs": [
    {
     "name": "stdout",
     "output_type": "stream",
     "text": [
      "Linear(in_features=784, out_features=128, bias=True)\n"
     ]
    },
    {
     "data": {
      "text/plain": [
       "Parameter containing:\n",
       "tensor([[-0.0035,  0.0213, -0.0015,  ..., -0.0145, -0.0084, -0.0284],\n",
       "        [ 0.0210,  0.0311, -0.0057,  ...,  0.0249, -0.0197,  0.0218],\n",
       "        [-0.0042,  0.0078, -0.0005,  ..., -0.0301,  0.0151, -0.0036],\n",
       "        ...,\n",
       "        [ 0.0216, -0.0027, -0.0045,  ...,  0.0005,  0.0245,  0.0179],\n",
       "        [ 0.0025,  0.0040,  0.0120,  ...,  0.0074, -0.0191, -0.0338],\n",
       "        [ 0.0055,  0.0347,  0.0125,  ...,  0.0095,  0.0221, -0.0069]],\n",
       "       requires_grad=True)"
      ]
     },
     "execution_count": 20,
     "metadata": {},
     "output_type": "execute_result"
    }
   ],
   "source": [
    "print(model[0])\n",
    "model[0].weight"
   ]
  },
  {
   "cell_type": "markdown",
   "metadata": {},
   "source": [
    "You can also pass in an `OrderedDict` to name the individual layers and operations, instead of using incremental integers. Note that dictionary keys must be unique, so _each operation must have a different name_."
   ]
  },
  {
   "cell_type": "code",
   "execution_count": 21,
   "metadata": {},
   "outputs": [
    {
     "data": {
      "text/plain": [
       "Sequential(\n",
       "  (fc1): Linear(in_features=784, out_features=128, bias=True)\n",
       "  (relu1): ReLU()\n",
       "  (fc2): Linear(in_features=128, out_features=64, bias=True)\n",
       "  (relu2): ReLU()\n",
       "  (output): Linear(in_features=64, out_features=10, bias=True)\n",
       "  (softmax): Softmax()\n",
       ")"
      ]
     },
     "execution_count": 21,
     "metadata": {},
     "output_type": "execute_result"
    }
   ],
   "source": [
    "from collections import OrderedDict\n",
    "model = nn.Sequential(OrderedDict([\n",
    "                      ('fc1', nn.Linear(input_size, hidden_sizes[0])),\n",
    "                      ('relu1', nn.ReLU()),\n",
    "                      ('fc2', nn.Linear(hidden_sizes[0], hidden_sizes[1])),\n",
    "                      ('relu2', nn.ReLU()),\n",
    "                      ('output', nn.Linear(hidden_sizes[1], output_size)),\n",
    "                      ('softmax', nn.Softmax(dim=1))]))\n",
    "model"
   ]
  },
  {
   "cell_type": "markdown",
   "metadata": {},
   "source": [
    "Now you can access layers either by integer or the name"
   ]
  },
  {
   "cell_type": "code",
   "execution_count": 22,
   "metadata": {},
   "outputs": [
    {
     "name": "stdout",
     "output_type": "stream",
     "text": [
      "Linear(in_features=784, out_features=128, bias=True)\n",
      "Linear(in_features=784, out_features=128, bias=True)\n"
     ]
    }
   ],
   "source": [
    "print(model[0])\n",
    "print(model.fc1)"
   ]
  },
  {
   "cell_type": "markdown",
   "metadata": {},
   "source": [
    "In the next notebook, we'll see how we can train a neural network to accuractly predict the numbers appearing in the MNIST images."
   ]
  }
 ],
 "metadata": {
  "kernelspec": {
   "display_name": "Python 3",
   "language": "python",
   "name": "python3"
  },
  "language_info": {
   "codemirror_mode": {
    "name": "ipython",
    "version": 3
   },
   "file_extension": ".py",
   "mimetype": "text/x-python",
   "name": "python",
   "nbconvert_exporter": "python",
   "pygments_lexer": "ipython3",
   "version": "3.7.3"
  }
 },
 "nbformat": 4,
 "nbformat_minor": 2
}
